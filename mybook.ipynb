{
 "cells": [
  {
   "cell_type": "code",
   "execution_count": null,
   "metadata": {},
   "outputs": [],
   "source": [
    "print (\"Hello Word\")"
   ]
  },
  {
   "cell_type": "markdown",
   "metadata": {},
   "source": [
    "This will print my name "
   ]
  },
  {
   "cell_type": "markdown",
   "metadata": {},
   "source": [
    "Grap plot "
   ]
  },
  {
   "cell_type": "code",
   "execution_count": null,
   "metadata": {},
   "outputs": [],
   "source": [
    "# importing the required module \n",
    "import matplotlib.pyplot as plt \n",
    "\t\n",
    "# x axis values \n",
    "x = [1,2,3] \n",
    "# corresponding y axis values \n",
    "y = [2,4,1] \n",
    "\t\n",
    "# plotting the points \n",
    "plt.plot(x, y) \n",
    "\t\n",
    "# naming the x axis \n",
    "plt.xlabel('x - axis') \n",
    "# naming the y axis \n",
    "plt.ylabel('y - axis') \n",
    "\t\n",
    "# giving a title to my graph \n",
    "plt.title('My first graph!') \n",
    "\t\n",
    "# function to show the plot \n",
    "plt.show() \n"
   ]
  }
 ],
 "metadata": {
  "kernelspec": {
   "display_name": "cross_simulation_py12",
   "language": "python",
   "name": "python3"
  },
  "language_info": {
   "codemirror_mode": {
    "name": "ipython",
    "version": 3
   },
   "file_extension": ".py",
   "mimetype": "text/x-python",
   "name": "python",
   "nbconvert_exporter": "python",
   "pygments_lexer": "ipython3",
   "version": "3.12.8"
  }
 },
 "nbformat": 4,
 "nbformat_minor": 2
}
